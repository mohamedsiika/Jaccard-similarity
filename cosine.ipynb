{
 "cells": [
  {
   "cell_type": "code",
   "execution_count": 15,
   "metadata": {},
   "outputs": [],
   "source": [
    "import os\n",
    "import numpy as np\n",
    "import pandas as pd"
   ]
  },
  {
   "cell_type": "code",
   "execution_count": 1,
   "metadata": {},
   "outputs": [],
   "source": [
    "docs=[]\n",
    "for document in sorted(os.listdir(\"documents\")):\n",
    "        \n",
    "        file=open(\"documents/\"+document,'r')\n",
    "        docs.append(file.read())"
   ]
  },
  {
   "cell_type": "code",
   "execution_count": 19,
   "metadata": {},
   "outputs": [],
   "source": [
    "bow=set()\n",
    "for i in range(len(docs)):\n",
    "    docs[i]=docs[i].replace('\\n','')\n",
    "    docs[i]=docs[i].split(\" \")\n",
    "\n",
    "    while docs[i].count(''):\n",
    "        docs[i].remove('')\n",
    "    \n",
    "    for word in docs[i]:\n",
    "        bow.add(word)"
   ]
  },
  {
   "cell_type": "code",
   "execution_count": 23,
   "metadata": {},
   "outputs": [
    {
     "data": {
      "text/plain": [
       "{'(Corrosponding',\n",
       " 'Activities',\n",
       " 'Ahmed',\n",
       " 'Assistant',\n",
       " 'Cairo',\n",
       " 'CairoUniversity,',\n",
       " 'Caroline',\n",
       " 'Computers',\n",
       " 'DegreeIn',\n",
       " 'Department,',\n",
       " 'Department,In',\n",
       " 'DepartmentMethodology',\n",
       " 'Egypt',\n",
       " 'Faculty',\n",
       " 'Fulfillment',\n",
       " 'Galal',\n",
       " 'Giza,',\n",
       " 'Governance',\n",
       " 'Hamada',\n",
       " 'Information',\n",
       " 'Information,',\n",
       " 'InformationInformation',\n",
       " 'Labib',\n",
       " 'Master',\n",
       " 'Mohamed',\n",
       " 'Partial',\n",
       " 'PhD',\n",
       " 'Pre-Development',\n",
       " 'ProjectsA',\n",
       " 'Requirments',\n",
       " 'Science',\n",
       " 'System',\n",
       " 'Systems',\n",
       " 'SystemsSubmitted',\n",
       " 'ThesisPresented',\n",
       " 'UniversityFaculty',\n",
       " 'a',\n",
       " 'am',\n",
       " 'and',\n",
       " 'at',\n",
       " 'author)Teaching',\n",
       " 'by:',\n",
       " 'byShaimaa',\n",
       " 'convert',\n",
       " 'degree',\n",
       " 'engineer',\n",
       " 'for',\n",
       " 'fulfillment',\n",
       " 'i',\n",
       " 'implementation',\n",
       " 'in',\n",
       " 'information',\n",
       " 'of',\n",
       " 'partial',\n",
       " 'requirements',\n",
       " 'sofware',\n",
       " 'specification',\n",
       " 'submitted',\n",
       " 'systemsA',\n",
       " 'the',\n",
       " 'thesis',\n",
       " 'to'}"
      ]
     },
     "execution_count": 23,
     "metadata": {},
     "output_type": "execute_result"
    }
   ],
   "source": [
    "bow"
   ]
  },
  {
   "cell_type": "code",
   "execution_count": 33,
   "metadata": {},
   "outputs": [
    {
     "name": "stdout",
     "output_type": "stream",
     "text": [
      "[0, 0, 0, 0, 0, 0, 0, 0, 1, 0, 0, 0, 0, 0, 0, 0, 0, 0, 0, 0, 0, 0, 0, 0, 0, 0, 0, 0, 1, 0, 0, 0, 0, 0, 0, 0, 0, 0, 0, 0, 0, 0, 0, 0, 0, 0, 0, 0, 1, 0, 0, 0, 0, 0, 0, 1, 0, 0, 0, 0, 1, 0]\n",
      "['i', 'am', 'a', 'sofware', 'engineer']\n"
     ]
    }
   ],
   "source": [
    "all=[[] for i in range(len(docs))]\n",
    "for word in bow:\n",
    "    for i in range(len(docs)):\n",
    "        if word in docs[i]:\n",
    "            all[i].append(1)\n",
    "        else:\n",
    "            all[i].append(0)\n",
    "print(all[3])\n",
    "print(docs[3])"
   ]
  },
  {
   "cell_type": "code",
   "execution_count": 38,
   "metadata": {},
   "outputs": [
    {
     "data": {
      "text/html": [
       "<div>\n",
       "<style scoped>\n",
       "    .dataframe tbody tr th:only-of-type {\n",
       "        vertical-align: middle;\n",
       "    }\n",
       "\n",
       "    .dataframe tbody tr th {\n",
       "        vertical-align: top;\n",
       "    }\n",
       "\n",
       "    .dataframe thead th {\n",
       "        text-align: right;\n",
       "    }\n",
       "</style>\n",
       "<table border=\"1\" class=\"dataframe\">\n",
       "  <thead>\n",
       "    <tr style=\"text-align: right;\">\n",
       "      <th></th>\n",
       "      <th>information</th>\n",
       "      <th>Master</th>\n",
       "      <th>requirements</th>\n",
       "      <th>partial</th>\n",
       "      <th>Caroline</th>\n",
       "      <th>Galal</th>\n",
       "      <th>Giza,</th>\n",
       "      <th>Department,In</th>\n",
       "      <th>am</th>\n",
       "      <th>by:</th>\n",
       "      <th>...</th>\n",
       "      <th>Cairo</th>\n",
       "      <th>implementation</th>\n",
       "      <th>Governance</th>\n",
       "      <th>i</th>\n",
       "      <th>Fulfillment</th>\n",
       "      <th>to</th>\n",
       "      <th>UniversityFaculty</th>\n",
       "      <th>(Corrosponding</th>\n",
       "      <th>a</th>\n",
       "      <th>fulfillment</th>\n",
       "    </tr>\n",
       "  </thead>\n",
       "  <tbody>\n",
       "    <tr>\n",
       "      <th>d1</th>\n",
       "      <td>0</td>\n",
       "      <td>0</td>\n",
       "      <td>0</td>\n",
       "      <td>0</td>\n",
       "      <td>1</td>\n",
       "      <td>0</td>\n",
       "      <td>1</td>\n",
       "      <td>0</td>\n",
       "      <td>0</td>\n",
       "      <td>0</td>\n",
       "      <td>...</td>\n",
       "      <td>0</td>\n",
       "      <td>0</td>\n",
       "      <td>0</td>\n",
       "      <td>0</td>\n",
       "      <td>0</td>\n",
       "      <td>0</td>\n",
       "      <td>0</td>\n",
       "      <td>1</td>\n",
       "      <td>0</td>\n",
       "      <td>0</td>\n",
       "    </tr>\n",
       "    <tr>\n",
       "      <th>d2</th>\n",
       "      <td>1</td>\n",
       "      <td>1</td>\n",
       "      <td>1</td>\n",
       "      <td>1</td>\n",
       "      <td>0</td>\n",
       "      <td>1</td>\n",
       "      <td>0</td>\n",
       "      <td>0</td>\n",
       "      <td>0</td>\n",
       "      <td>0</td>\n",
       "      <td>...</td>\n",
       "      <td>1</td>\n",
       "      <td>1</td>\n",
       "      <td>0</td>\n",
       "      <td>0</td>\n",
       "      <td>0</td>\n",
       "      <td>1</td>\n",
       "      <td>1</td>\n",
       "      <td>0</td>\n",
       "      <td>0</td>\n",
       "      <td>1</td>\n",
       "    </tr>\n",
       "    <tr>\n",
       "      <th>d3</th>\n",
       "      <td>0</td>\n",
       "      <td>0</td>\n",
       "      <td>0</td>\n",
       "      <td>0</td>\n",
       "      <td>0</td>\n",
       "      <td>0</td>\n",
       "      <td>0</td>\n",
       "      <td>1</td>\n",
       "      <td>0</td>\n",
       "      <td>1</td>\n",
       "      <td>...</td>\n",
       "      <td>0</td>\n",
       "      <td>0</td>\n",
       "      <td>1</td>\n",
       "      <td>0</td>\n",
       "      <td>1</td>\n",
       "      <td>1</td>\n",
       "      <td>0</td>\n",
       "      <td>0</td>\n",
       "      <td>0</td>\n",
       "      <td>0</td>\n",
       "    </tr>\n",
       "    <tr>\n",
       "      <th>d4</th>\n",
       "      <td>0</td>\n",
       "      <td>0</td>\n",
       "      <td>0</td>\n",
       "      <td>0</td>\n",
       "      <td>0</td>\n",
       "      <td>0</td>\n",
       "      <td>0</td>\n",
       "      <td>0</td>\n",
       "      <td>1</td>\n",
       "      <td>0</td>\n",
       "      <td>...</td>\n",
       "      <td>0</td>\n",
       "      <td>0</td>\n",
       "      <td>0</td>\n",
       "      <td>1</td>\n",
       "      <td>0</td>\n",
       "      <td>0</td>\n",
       "      <td>0</td>\n",
       "      <td>0</td>\n",
       "      <td>1</td>\n",
       "      <td>0</td>\n",
       "    </tr>\n",
       "  </tbody>\n",
       "</table>\n",
       "<p>4 rows × 62 columns</p>\n",
       "</div>"
      ],
      "text/plain": [
       "    information  Master  requirements  partial  Caroline  Galal  Giza,  \\\n",
       "d1            0       0             0        0         1      0      1   \n",
       "d2            1       1             1        1         0      1      0   \n",
       "d3            0       0             0        0         0      0      0   \n",
       "d4            0       0             0        0         0      0      0   \n",
       "\n",
       "    Department,In  am  by:  ...  Cairo  implementation  Governance  i  \\\n",
       "d1              0   0    0  ...      0               0           0  0   \n",
       "d2              0   0    0  ...      1               1           0  0   \n",
       "d3              1   0    1  ...      0               0           1  0   \n",
       "d4              0   1    0  ...      0               0           0  1   \n",
       "\n",
       "    Fulfillment  to  UniversityFaculty  (Corrosponding  a  fulfillment  \n",
       "d1            0   0                  0               1  0            0  \n",
       "d2            0   1                  1               0  0            1  \n",
       "d3            1   1                  0               0  0            0  \n",
       "d4            0   0                  0               0  1            0  \n",
       "\n",
       "[4 rows x 62 columns]"
      ]
     },
     "execution_count": 38,
     "metadata": {},
     "output_type": "execute_result"
    }
   ],
   "source": [
    "df=pd.DataFrame(np.array(all),columns=bow,index=['d1','d2','d3','d4'])\n",
    "df"
   ]
  },
  {
   "cell_type": "code",
   "execution_count": null,
   "metadata": {},
   "outputs": [],
   "source": []
  },
  {
   "cell_type": "code",
   "execution_count": 43,
   "metadata": {},
   "outputs": [
    {
     "data": {
      "text/plain": [
       "(0.17712297710801905, 0.9843546924960765)"
      ]
     },
     "execution_count": 43,
     "metadata": {},
     "output_type": "execute_result"
    }
   ],
   "source": [
    "def cos_sim(d1,d2):\n",
    "    product=np.dot(d1,d2)\n",
    "    norm_d1=np.sqrt(sum([d1[i]**2 for i in range(len(d1))]))\n",
    "    norm_d2=np.sqrt(sum([d2[i]**2 for i in range(len(d2))]))\n",
    "    cos_s=product/(norm_d1*norm_d2)\n",
    "    theta=np.cos(cos_s)\n",
    "    return cos_s,theta\n",
    "\n",
    "\n",
    "\n"
   ]
  },
  {
   "cell_type": "code",
   "execution_count": 48,
   "metadata": {},
   "outputs": [],
   "source": [
    "similarites=[]\n",
    "for i in range(4):\n",
    "    for j in range(i+1,4):\n",
    "        similarites.append([cos_sim(df.iloc[i],df.iloc[j])[0],(i,j)])"
   ]
  },
  {
   "cell_type": "code",
   "execution_count": 52,
   "metadata": {},
   "outputs": [
    {
     "data": {
      "text/plain": [
       "[[0.35805743701971643, (1, 2)],\n",
       " [0.2853908964926965, (0, 2)],\n",
       " [0.17712297710801905, (0, 1)],\n",
       " [0.0, (2, 3)],\n",
       " [0.0, (1, 3)],\n",
       " [0.0, (0, 3)]]"
      ]
     },
     "execution_count": 52,
     "metadata": {},
     "output_type": "execute_result"
    }
   ],
   "source": [
    "similarites.sort(reverse=True)\n",
    "similarites"
   ]
  }
 ],
 "metadata": {
  "interpreter": {
   "hash": "109dc45cfe3c06019da5e99e37f41500b83ed95cc3a6b022a0bdfe66f2864dda"
  },
  "kernelspec": {
   "display_name": "Python 3.9.0 64-bit",
   "language": "python",
   "name": "python3"
  },
  "language_info": {
   "codemirror_mode": {
    "name": "ipython",
    "version": 3
   },
   "file_extension": ".py",
   "mimetype": "text/x-python",
   "name": "python",
   "nbconvert_exporter": "python",
   "pygments_lexer": "ipython3",
   "version": "3.9.0"
  },
  "orig_nbformat": 4
 },
 "nbformat": 4,
 "nbformat_minor": 2
}
